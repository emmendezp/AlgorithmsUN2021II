{
  "nbformat": 4,
  "nbformat_minor": 0,
  "metadata": {
    "colab": {
      "name": "CormenSizeTimeComplexityGroup24.ipynb",
      "provenance": [],
      "collapsed_sections": [
        "Yyr8UhVGFoib",
        "tCwIERXVuK5M",
        "woTZKk5gGA0U",
        "gZ1o5JmYGK6j",
        "C23o78xmuVDy",
        "Vri3sDWIGII7"
      ]
    },
    "kernelspec": {
      "name": "python3",
      "display_name": "Python 3"
    },
    "language_info": {
      "name": "python"
    }
  },
  "cells": [
    {
      "cell_type": "markdown",
      "metadata": {
        "id": "I5UAAxG2_CqQ"
      },
      "source": [
        "# 0.(1 microsecond by instruction)\n",
        "\n",
        "Asuuming that you can execute a million instructions $10^6$ every second, i.e. each instruction takes one microsecond $1\\mu s=10^{-6}$ seconds. If you have algorithms take $\\bf{ Time\\ Complexity}$ steps to solve a porblem of size $n$ as specified in column one. What is the size of the largest porblem that you can solve in the time specified in row one?\n",
        "\n",
        "\n",
        "$$\n",
        "\\begin{array}{|c|c|c|c|c|c|c|c|} \n",
        " \\hline\n",
        " \\bf{ Time\\ Complexity} & Second  & Minute  & Hour & Day & Year & Century & Mileniun  \\\\ \n",
        "  \\hline\\\\ \n",
        "\\lg(n) &   2^{10^{6}}  &  2^{60 \\times 10^{6}} & 2^{3.6 \\times 10^{9}} & 2^{8.64 \\times 10^{10}} & 2^{3.1536 \\times 10^{13}} & 2^{3.154 \\times 10^{15}} & 2^{3.154 \\times 10^{16}} \\\\ \n",
        "   \\hline\\\\ \n",
        "\\lg^2(n) &  2^{10^{3}}  & 2^{2000\\sqrt{15}} & 2^{60000} & 2^{120000\\sqrt{6}} & 2^{120000\\sqrt{2190}} & 2^{\\sqrt{31.54} \\times 10^{7}} & 2^{\\sqrt{3.154} \\times 10^{8}} \\\\ \n",
        "   \\hline\\\\ \n",
        "\\sqrt{n} & {10^{12}} & {3.6 \\times 10^{15}} & {1.296 \\times 10^{19}} & {7.46496 \\times 10^{21}} & {31536000^{2} \\times 10^{12}} & {3.154^{2} \\times 10^{30}} & {3.154^{2} \\times 10^{16}} \\\\ \n",
        " \\hline\n",
        " n &  {10^{6}}  & {6 \\times 10^{7}}  & {3.6 \\times 10^{9}} & {8.64 \\times 10^{10}} & {3.1536 \\times 10^{13}} & {3.154 \\times 10^{15}} & {3.154 \\times 10^{16}} \\\\ \n",
        " \\hline\n",
        " n^2 &  1000  & 7745  & 60000 & 120000\\sqrt{6} & 120000\\sqrt{2190} & \\sqrt{31.54 } \\times 10^{7} & \\sqrt{3.154 } \\times 10^{8} \\\\ \n",
        " \\hline\n",
        "  n^3 &  100  & 100 \\sqrt[3]{60}  & 200 \\sqrt[3]{450}  & 1200 \\sqrt[3]{50} &  6000 \\sqrt[3]{146} & \\sqrt[3]{3.154} \\times 10^{5}  & \\sqrt[3]{3.154 \\times 10^{16}}  \\\\ \n",
        " \\hline\n",
        "  n^4 &  10\\sqrt{10}  & \\sqrt[4]{60 \\times 10^{6}}  & 100 \\sqrt{6} & \\sqrt[4]{86400 \\times 10^{6}} & \\sqrt[4]{31536000 \\times 10^{6}}  & \\sqrt[4]{3.154 \\times 10^{15}} & \\sqrt[4]{3.154} \\times 10^{4} \\\\ \n",
        " \\hline\n",
        "  2^n &  20  & 25  & 32 & 36 & 45 & 52 & 55 \\\\ \n",
        " \\hline\n",
        " n! &  9  & 11  & 12 & 13 & 16 & 17 & 18 \\\\ \n",
        " \\hline\n",
        " n^n & 7 & 8 & 9 & 10 & 12 & 13 & 14 \\\\ \n",
        " \\hline\n",
        "\\end{array}\n",
        "$$"
      ]
    },
    {
      "cell_type": "markdown",
      "source": [
        "# $\\bf{ Time\\ Complexity\\ \\lg(n) }$"
      ],
      "metadata": {
        "id": "5xMx7xp4FH0H"
      }
    },
    {
      "cell_type": "markdown",
      "metadata": {
        "id": "Jg7RtE2sDMWt"
      },
      "source": [
        "$\\bf{ Time\\ Complexity\\ \\lg(n) }$\n",
        "\n",
        "$Second$\n",
        "$$ \\lg(n) \\times 10^{-6}\\ s\\le 1\\ s$$ \n",
        "$$ \\lg(n) \\le 1 * 10^{6}$$ \n",
        "$$ 2^{\\lg(n)} \\le 2^{10^{6}}$$ \n",
        "$$ n \\le 2^{10^{6}}$$ \n",
        "\n",
        "$Minute$\n",
        "$$ \\lg(n) \\times 10^{-6}\\ s \\le 60\\ s$$ \n",
        "$$ \\lg(n) \\le 60 \\times 10^{6}$$ \n",
        "$$ 2^{\\lg(n)} \\le 2^{60 \\times 10^{6}}$$ \n",
        "$$ n \\le 2^{60 \\times 10^{6}}$$ \n",
        "\n",
        "$Hour$\n",
        "$$ \\lg(n) \\times 10^{-6}\\ s \\le 3600\\ s$$ \n",
        "$$ \\lg(n) \\le 3600 \\times 10^{6}$$ \n",
        "$$ 2^{\\lg(n)} \\le 2^{3600 \\times 10^{6}}$$ \n",
        "$$ n \\le 2^{3.6 \\times 10^{9}}$$ \n",
        "\n",
        "$Day$\n",
        "$$ \\lg(n) \\times 10^{-6}\\ s \\le 86400\\ s$$ \n",
        "$$ \\lg(n) \\le 86400 \\times 10^{6}$$ \n",
        "$$ 2^{\\lg(n)} \\le 2^{86400 \\times 10^{6}}$$ \n",
        "$$ n \\le 2^{8.64 \\times 10^{10}}$$ \n",
        "\n",
        "$Year$\n",
        "$$ \\lg(n) \\times 10^{-6}\\ s \\le 31536000\\ s$$ \n",
        "$$ \\lg(n) \\le 31536000 \\times 10^{6}$$ \n",
        "$$ 2^{\\lg(n)} \\le 2^{31536000 \\times 10^{6}}$$ \n",
        "$$ n \\le 2^{3.1536 \\times 10^{13}}$$ \n",
        "\n",
        "$Century$\n",
        "$$ \\lg(n) \\times 10^{-6}\\ s \\le 3.154 * 10^{9}\\ s$$ \n",
        "$$ \\lg(n) \\le 3.154*10^{9} \\times 10^{6}$$ \n",
        "$$ 2^{\\lg(n)} \\le 2^{3.154 \\times 10^{15}}$$ \n",
        "$$ n \\le 2^{3.154\\times 10^{15}}$$ \n",
        "\n",
        "$Millenum$\n",
        "$$ \\lg(n) \\times 10^{-6}\\ s \\le 3.154 * 10^{10}\\ s$$ \n",
        "$$ \\lg(n) \\le 3.154 * 10^{10} \\times 10^{6}$$ \n",
        "$$ 2^{\\lg(n)} \\le 2^{3.154 \\times 10^{16}}$$ \n",
        "$$ n \\le 2^{3.154 \\times 10^{16}}$$\n"
      ]
    },
    {
      "cell_type": "markdown",
      "source": [
        "# $\\bf{ Time\\ Complexity\\ lg^{2}(n) }$"
      ],
      "metadata": {
        "id": "NcbpY9qzFUvr"
      }
    },
    {
      "cell_type": "markdown",
      "source": [
        "$\\bf{ Time\\ Complexity\\ lg^{2}(n) }$\n",
        "\n",
        "$Second$\n",
        "$$ \\lg^{2}(n) \\times 10^{-6}\\ s\\le 1\\ s$$ \n",
        "$$ \\sqrt{lg^{2}(n)} \\le \\sqrt{1 * 10^{6}}$$ \n",
        "$$ \\lg(n) \\le {10^{3}}$$ \n",
        "$$ 2^{\\lg(n)} \\le 2^{10^{3}}$$ \n",
        "$$ n \\le 2^{10^{3}}$$ \n",
        "\n",
        "$Minute$\n",
        "$$ \\lg^{2}(n) \\times 10^{-6}\\ s\\le 60\\ s$$ \n",
        "$$ \\sqrt{lg^{2}(n)} \\le \\sqrt{60 \\times 10^{6}}$$ \n",
        "$$ \\lg(n) \\le {2000\\sqrt{15}}$$ \n",
        "$$ 2^{\\lg(n)} \\le 2^{2000\\sqrt{15}}$$ \n",
        "$$ n \\le 2^{2000\\sqrt{15}}$$ \n",
        "\n",
        "$Hour$\n",
        "$$ \\lg^{2}(n) \\times 10^{-6}\\ s\\le 3600\\ s$$ \n",
        "$$ \\sqrt{lg^{2}(n)} \\le \\sqrt{3600 * 10^{6}}$$ \n",
        "$$ \\lg(n) \\le {60000}$$ \n",
        "$$ 2^{\\lg(n)} \\le 2^{60000}$$ \n",
        "$$ n \\le 2^{60000}$$ \n",
        "\n",
        "$Day$\n",
        "$$ \\lg^{2}(n) \\times 10^{-6}\\ s\\le 86400\\ s$$ \n",
        "$$ \\sqrt{lg^{2}(n)} \\le \\sqrt{86400 * 10^{6}}$$ \n",
        "$$ \\lg(n) \\le {120000\\sqrt{6}}$$ \n",
        "$$ 2^{\\lg(n)} \\le 2^{120000\\sqrt{6}}$$ \n",
        "$$ n \\le 2^{120000\\sqrt{6}}$$ \n",
        "\n",
        "$Year$\n",
        "$$ \\lg^{2}(n) \\times 10^{-6}\\ s\\le 31536000\\ s$$ \n",
        "$$ \\sqrt{lg^{2}(n)} \\le \\sqrt{31536000 * 10^{6}}$$ \n",
        "$$ \\lg(n) \\le {120000\\sqrt{2190}}$$ \n",
        "$$ 2^{\\lg(n)} \\le 2^{120000\\sqrt{2190}}$$ \n",
        "$$ n \\le 2^{120000\\sqrt{2190}}$$ \n",
        "\n",
        "$Century$\n",
        "$$ \\lg^{2}(n) \\times 10^{-6}\\ s\\le 3.154 * 10^{9}\\ s$$ \n",
        "$$ \\sqrt{lg^{2}(n)} \\le \\sqrt{3.154 * 10^{9} * 10^{6}}$$ \n",
        "$$ \\lg(n) \\le {\\sqrt{3.154 \\times 10^{15}}}$$ \n",
        "$$ 2^{\\lg(n)} \\le 2^{\\sqrt{3.154 \\times 10^{15}}}$$ \n",
        "$$ n \\le 2^{\\sqrt{31.54} \\times 10^{7}}$$ \n",
        "\n",
        "$Millenum$\n",
        "$$ \\lg^{2}(n) \\times 10^{-6}\\ s\\le 3.154 * 10^{10}\\ s$$ \n",
        "$$ \\sqrt{lg^{2}(n)} \\le \\sqrt{3.154 * 10^{10} * 10^{6}}$$ \n",
        "$$ \\lg(n) \\le {\\sqrt{3.154 \\times 10^{16}}}$$ \n",
        "$$ 2^{\\lg(n)} \\le 2^{\\sqrt{3.154 \\times 10^{16}}}$$ \n",
        "$$ n \\le 2^{\\sqrt{3.154} \\times 10^{8}}$$ "
      ],
      "metadata": {
        "id": "eaXvUGS-SOPK"
      }
    },
    {
      "cell_type": "markdown",
      "source": [
        "# $\\bf{ Time\\ Complexity\\ \\sqrt{n} }$"
      ],
      "metadata": {
        "id": "yzYtFe3xFh0G"
      }
    },
    {
      "cell_type": "markdown",
      "source": [
        "$\\bf{ Time\\ Complexity\\ \\sqrt{n} }$\n",
        "\n",
        "$${3.6 \\times 10^{15}}$$ \n",
        "$$ n \\le {1.296 \\times 10^{19}}$$ \n",
        "$$ n \\le {7.46496 \\times 10^{21}}$$ \n",
        "\n",
        "$Second$\n",
        "$$ \\sqrt{n} \\times 10^{-6}\\ s\\le 1\\ s$$ \n",
        "$$ (\\sqrt{n})^{2} \\le ({1 * 10^{6}})^{2} $$ \n",
        "$$ n \\le {10^{12}}$$ \n",
        "\n",
        "$Minute$\n",
        "$$ \\sqrt{n} \\times 10^{-6}\\ s\\le 60\\ s$$ \n",
        "$$ (\\sqrt{n})^{2} \\le ({60 * 10^{6}})^{2} $$ \n",
        "$$ n \\le {3.6 \\times 10^{15}}$$ \n",
        "\n",
        "$Hour$\n",
        "$$ \\sqrt{n} \\times 10^{-6}\\ s\\le 3600\\ s$$ \n",
        "$$ (\\sqrt{n})^{2} \\le ({3600 * 10^{6}})^{2} $$ \n",
        "$$ n \\le {1.296 \\times 10^{19}}$$ \n",
        "\n",
        "$Day$\n",
        "$$ \\sqrt{n} \\times 10^{-6}\\ s\\le 86400\\ s$$ \n",
        "$$ (\\sqrt{n})^{2} \\le ({86400 * 10^{6}})^{2} $$ \n",
        "$$ n \\le {7.46496 \\times 10^{21}}$$ \n",
        "\n",
        "$Year$\n",
        "$$ \\sqrt{n} \\times 10^{-6}\\ s\\le 31536000\\ s$$ \n",
        "$$ (\\sqrt{n})^{2} \\le ({31536000 * 10^{6}})^{2} $$ \n",
        "$$ n \\le {31536000^{2} \\times 10^{12}}$$ \n",
        "\n",
        "$Century$\n",
        "$$ \\sqrt{n} \\times 10^{-6}\\ s\\le 3.154 * 10^{9}\\ s$$ \n",
        "$$ (\\sqrt{n})^{2} \\le ({3.154 * 10^{9} * 10^{6}})^{2} $$ \n",
        "$$ n \\le {3.154^{2} \\times 10^{30}}$$ \n",
        "\n",
        "$Millenum$\n",
        "$$ \\sqrt{n} \\times 10^{-6}\\ s\\le 3.154 * 10^{10}\\ s$$ \n",
        "$$ (\\sqrt{n})^{2} \\le ({3.154 * 10^{10} * 10^{6}})^{2} $$ \n",
        "$$ n \\le {3.154^{2} \\times 10^{16}}$$ "
      ],
      "metadata": {
        "id": "GUUshna1SXVV"
      }
    },
    {
      "cell_type": "markdown",
      "source": [
        "# $\\bf{ Time\\ Complexity\\ n }$"
      ],
      "metadata": {
        "id": "PjVGEPtOF0zI"
      }
    },
    {
      "cell_type": "markdown",
      "source": [
        "$\\bf{ Time\\ Complexity\\ n }$\n",
        "\n",
        "$Second$\n",
        "$$ n \\times 10^{-6}\\ s\\le 1\\ s$$ \n",
        "$$ n \\le {10^{6}}$$ \n",
        "\n",
        "$Minute$\n",
        "$$ n \\times 10^{-6}\\ s\\le 60\\ s$$ \n",
        "$$ n \\le {6 \\times 10^{7}} $$\n",
        "\n",
        "$Hour$\n",
        "$$ n \\times 10^{-6}\\ s\\le 3600\\ s$$ \n",
        "$$ n \\le {3.6 \\times 10^{9}}$$ \n",
        "\n",
        "$Day$\n",
        "$$ n \\times 10^{-6}\\ s\\le 86400\\ s$$ \n",
        "$$ n \\le {8.64 \\times 10^{10}}$$ \n",
        "\n",
        "$Year$\n",
        "$$ n \\times 10^{-6}\\ s\\le 31536000\\ s$$ \n",
        "$$ n \\le {3.1536 \\times 10^{13}}$$ \n",
        "\n",
        "$Century$\n",
        "$$ n \\times 10^{-6}\\ s\\le 3.154 * 10^{9}\\ s$$ \n",
        "$$ n \\le {3.154 * 10^{9} \\times 10^{6}}$$ \n",
        "$$ n \\le {3.154 \\times 10^{15}}$$ \n",
        "\n",
        "$Millenum$\n",
        "$$ n \\times 10^{-6}\\ s\\le 3.154 * 10^{10}\\ s$$ \n",
        "$$ n \\le {3.154 * 10^{10} \\times 10^{6}}$$ \n",
        "$$ n \\le {3.154 \\times 10^{16}}$$ "
      ],
      "metadata": {
        "id": "C6EiVK00Sccq"
      }
    },
    {
      "cell_type": "markdown",
      "source": [
        "# $\\bf{ Time\\ Complexity\\ n\\;lg(n) }$"
      ],
      "metadata": {
        "id": "vb35aa5XuFDX"
      }
    },
    {
      "cell_type": "markdown",
      "source": [
        "$\\bf{ Time\\ Complexity\\ n\\;lg(n) }$"
      ],
      "metadata": {
        "id": "oc140lM4FmYK"
      }
    },
    {
      "cell_type": "markdown",
      "source": [
        "# $\\bf{ Time\\ Complexity\\ n^2 }$"
      ],
      "metadata": {
        "id": "Yyr8UhVGFoib"
      }
    },
    {
      "cell_type": "markdown",
      "source": [
        "$\\bf{ Time\\ Complexity\\ n^2 }$\n",
        "\n",
        "\n",
        "$Second$\n",
        "$$  n^2 \\times 10^{-6}\\ s\\le 1\\ s$$ \n",
        "$$  n^2 \\le  10^{6}$$ \n",
        "$$ \\sqrt{n^2} \\le \\sqrt{10^{6}}$$ \n",
        "$$ n \\le 10^3 = 1000 $$ \n",
        "\n",
        "$Minute$\n",
        "$$  n^2 \\times 10^{-6}\\ s\\le 60\\ s$$ \n",
        "$$  n^2 \\le 60 \\times 10^{6}$$ \n",
        "$$ \\sqrt{n^2} \\le \\sqrt{60 \\times10^{6}}$$ \n",
        "$$ n \\le 7745 $$\n",
        "\n",
        "$Hour$\n",
        "$$  n^2 \\times 10^{-6}\\ s\\le 3600\\ s$$ \n",
        "$$  n^2 \\le 3600 \\times 10^{6}$$ \n",
        "$$ \\sqrt{n^2} \\le \\sqrt{3600 \\times10^{6}}$$ \n",
        "$$ n \\le 60000 $$\n",
        "\n",
        "$Day$\n",
        "$$  n^2 \\times 10^{-6}\\ s\\le 86400\\ s$$ \n",
        "$$  n^2 \\le 86400 \\times 10^{6}$$ \n",
        "$$ \\sqrt{n^2} \\le \\sqrt{86400 \\times10^{6}}$$ \n",
        "$$ n \\le 120000\\sqrt{6} $$\n",
        "\n",
        "$Year$\n",
        "$$  n^2 \\times 10^{-6}\\ s\\le 31536000\\ s$$ \n",
        "$$  n^2 \\le 31536000 \\times 10^{6}$$ \n",
        "$$ \\sqrt{n^2} \\le \\sqrt{31536000 \\times10^{6}}$$ \n",
        "$$ n \\le 120000\\sqrt{2190} $$\n",
        "\n",
        "$Century$\n",
        "$$  n^2 \\times 10^{-6}\\ s\\le 3.154 * 10^{9}\\ s$$ \n",
        "$$  n^2 \\le 3.154 * 10^{9} \\times 10^{6}$$ \n",
        "$$ \\sqrt{n^2} \\le \\sqrt{3.154 * 10^{9}\\times10^{6}}$$ \n",
        "$$ n \\le \\sqrt{31.54 } \\times 10^{7} $$\n",
        "\n",
        "$Millenum$\n",
        "$$  n^2 \\times 10^{-6}\\ s\\le 3.154 * 10^{10}\\ s$$ \n",
        "$$  n^2 \\le 3.154 * 10^{10} \\times 10^{6}$$ \n",
        "$$ \\sqrt{n^2} \\le \\sqrt{3.154 * 10^{10} \\times10^{6}}$$ \n",
        "$$ n \\le \\sqrt{3.154 } \\times 10^{8}$$"
      ],
      "metadata": {
        "id": "tBTZ9LOpRyNw"
      }
    },
    {
      "cell_type": "markdown",
      "source": [
        "# $\\bf{ Time\\ Complexity\\ n^3 }$"
      ],
      "metadata": {
        "id": "tCwIERXVuK5M"
      }
    },
    {
      "cell_type": "markdown",
      "source": [
        "$\\bf{ Time\\ Complexity\\ n^3 }$\n",
        "\n",
        "$Second$\n",
        "$$  n^3 \\times 10^{-6}\\ s\\le 1\\ s$$ \n",
        "$$  n^3 \\le  10^{6}$$ \n",
        "$$ \\sqrt[3]{n^3} \\le \\sqrt[3]{10^{6}}$$ \n",
        "$$ n \\le 10^2$$ \n",
        "\n",
        "$Minute$\n",
        "$$  n^3 \\times 10^{-6}\\ s\\le 60\\ s$$ \n",
        "$$  n^3 \\le 60 \\times 10^{6}$$ \n",
        "$$ \\sqrt[3]{n^3} \\le \\sqrt[3]{60 \\times 10^{6}}$$ \n",
        "$$ n \\le 100 \\sqrt[3]{60} $$ \n",
        "\n",
        "$Hour$\n",
        "$$  n^3 \\times 10^{-6}\\ s\\le 3600\\ s$$ \n",
        "$$  n^3 \\le 3600 \\times 10^{6}$$ \n",
        "$$ \\sqrt[3]{n^3} \\le \\sqrt[3]{3600 \\times 10^{6}}$$ \n",
        "$$ n \\le 200 \\sqrt[3]{450} $$ \n",
        "\n",
        "$Day$\n",
        "$$  n^3 \\times 10^{-6}\\ s\\le 86400\\ s$$ \n",
        "$$  n^3 \\le 86400 \\times 10^{6}$$ \n",
        "$$ \\sqrt[3]{n^3} \\le \\sqrt[3]{86400 \\times 10^{6}}$$ \n",
        "$$ n \\le 1200 \\sqrt[3]{50} $$ \n",
        "\n",
        "$Year$\n",
        "$$  n^3 \\times 10^{-6}\\ s\\le 31536000\\ s$$ \n",
        "$$  n^3 \\le 31536000 \\times 10^{6}$$ \n",
        "$$ \\sqrt[3]{n^3} \\le \\sqrt[3]{31536000 \\times 10^{6}}$$ \n",
        "$$ n \\le 6000 \\sqrt[3]{146} $$ \n",
        "\n",
        "$Century$\n",
        "$$  n^3 \\times 10^{-6}\\ s\\le 3.154 * 10^{9}\\ s$$ \n",
        "$$  n^3 \\le 3.154 * 10^{9} \\times 10^{6}$$ \n",
        "$$ \\sqrt[3]{n^3} \\le \\sqrt[3]{3.154 * 10^{9} \\times 10^{6}}$$ \n",
        "$$ \\sqrt[3]{n^3} \\le \\sqrt[3]{3.154 \\times 10^{15}}$$ \n",
        "$$ n \\le \\sqrt[3]{3.154} \\times 10^{5} $$ \n",
        "\n",
        "$Millenum$\n",
        "$$  n^3 \\times 10^{-6}\\ s\\le 3.154 * 10^{10}\\ s$$ \n",
        "$$  n^3 \\le 3.154 * 10^{10} \\times 10^{6}$$ \n",
        "$$ \\sqrt[3]{n^3} \\le \\sqrt[3]{3.154 * 10^{10} \\times 10^{6}}$$ \n",
        "$$ \\sqrt[3]{n^3} \\le \\sqrt[3]{3.154 \\times 10^{16}}$$ \n",
        "$$ n \\le \\sqrt[3]{3.154 \\times 10^{16}} $$"
      ],
      "metadata": {
        "id": "jYpslCjvFsi2"
      }
    },
    {
      "cell_type": "markdown",
      "source": [
        "# $\\bf{ Time\\ Complexity\\ n^4 }$"
      ],
      "metadata": {
        "id": "woTZKk5gGA0U"
      }
    },
    {
      "cell_type": "markdown",
      "source": [
        "$\\bf{ Time\\ Complexity\\ n^4 }$\n",
        "\n",
        "$Second$\n",
        "$$  n^4 \\times 10^{-6}\\ s\\le 1\\ s$$ \n",
        "$$  n^4 \\le  10^{6}$$ \n",
        "$$ \\sqrt[4]{n^4} \\le \\sqrt[4]{10^{6}}$$ \n",
        "$$ n \\le 10\\sqrt{10} $$ \n",
        "\n",
        "$Minute$\n",
        "$$  n^4 \\times 10^{-6}\\ s\\le 60\\ s$$ \n",
        "$$  n^4 \\le 60 \\times 10^{6}$$ \n",
        "$$ \\sqrt[4]{n^4} \\le \\sqrt[4]{60 \\times 10^{6}}$$ \n",
        "$$ n \\le \\sqrt[4]{60 \\times 10^{6}} $$ \n",
        "\n",
        "$Hour$\n",
        "$$  n^4 \\times 10^{-6}\\ s\\le 3600\\ s$$ \n",
        "$$  n^4 \\le 3600 \\times 10^{6}$$ \n",
        "$$ \\sqrt[4]{n^4} \\le \\sqrt[4]{3600 \\times 10^{6}}$$ \n",
        "$$ n \\le 100 \\sqrt{6} $$ \n",
        "\n",
        "$Day$\n",
        "$$  n^4 \\times 10^{-6}\\ s\\le 86400\\ s$$ \n",
        "$$  n^4 \\le 86400 \\times 10^{6}$$ \n",
        "$$ \\sqrt[4]{n^4} \\le \\sqrt[4]{86400 \\times 10^{6}}$$ \n",
        "$$ n \\le \\sqrt[4]{86400 \\times 10^{6}} $$ \n",
        "\n",
        "$Year$\n",
        "$$  n^4 \\times 10^{-6}\\ s\\le 31536000\\ s$$ \n",
        "$$  n^4 \\le 31536000 \\times 10^{6}$$ \n",
        "$$ \\sqrt[4]{n^4} \\le \\sqrt[4]{31536000 \\times 10^{6}}$$ \n",
        "$$ n \\le \\sqrt[4]{31536000 \\times 10^{6}} $$ \n",
        "\n",
        "$Century$\n",
        "$$  n^4 \\times 10^{-6}\\ s\\le 3.154 * 10^{9}\\ s$$ \n",
        "$$  n^4 \\le 3.154 * 10^{9} \\times 10^{6}$$ \n",
        "$$ \\sqrt[4]{n^4} \\le \\sqrt[4]{3.154 * 10^{9} \\times 10^{6}}$$ \n",
        "$$ \\sqrt[4]{n^4} \\le \\sqrt[4]{3.154 \\times 10^{15}}$$ \n",
        "$$ n \\le \\sqrt[4]{3.154 \\times 10^{15}} $$ \n",
        "\n",
        "$Millenum$\n",
        "$$  n^4 \\times 10^{-6}\\ s\\le 3.154 * 10^{10}\\ s$$ \n",
        "$$  n^4 \\le 3.154 * 10^{10} \\times 10^{6}$$ \n",
        "$$ \\sqrt[4]{n^4} \\le \\sqrt[4]{3.154 * 10^{10} \\times 10^{6}}$$ \n",
        "$$ \\sqrt[4]{n^4} \\le \\sqrt[4]{3.154 \\times 10^{16}}$$ \n",
        "$$ n \\le \\sqrt[4]{3.154} \\times 10^{4}$$ "
      ],
      "metadata": {
        "id": "N-LP14KLuPBz"
      }
    },
    {
      "cell_type": "markdown",
      "source": [
        "# $\\bf{ Time\\ Complexity\\ 2^{n} }$"
      ],
      "metadata": {
        "id": "gZ1o5JmYGK6j"
      }
    },
    {
      "cell_type": "markdown",
      "source": [
        "$\\bf{ Time\\ Complexity\\ 2^{n} }$\n",
        "\n",
        "$Second$\n",
        "$$  2^{n} \\times 10^{-6}\\ s\\le 1\\ s$$ \n",
        "$$  2^{n} \\le  10^{6}$$ \n",
        "$$  \\lg(2^{n}) \\le  \\lg(10^{6})$$ \n",
        "$$  n\\lg(2) \\le \\lg(10^{6})$$ \n",
        "$$  n \\le  \\lg(10^{6})$$\n",
        "$$  n = 20 $$ \n",
        "\n",
        "$Minute$\n",
        "$$  2^{n} \\times 10^{-6}\\ s\\le 60\\ s$$ \n",
        "$$  2^{n} \\le 60 \\times 10^{6}$$ \n",
        "$$  \\lg(2^{n}) \\le  \\lg(60 \\times 10^{6})$$ \n",
        "$$  n\\lg(2) \\le \\lg(60 \\times 10^{6})$$ \n",
        "$$  n \\le  \\lg(60 \\times 10^{6})$$\n",
        "$$  n = 25 $$ \n",
        "\n",
        "$Hour$\n",
        "$$  2^{n} \\times 10^{-6}\\ s\\le 3600\\ s$$ \n",
        "$$  2^{n} \\le 3600 \\times 10^{6}$$ \n",
        "$$  \\lg(2^{n}) \\le  \\lg(3600 \\times 10^{6})$$ \n",
        "$$  n\\lg(2) \\le \\lg(3600 \\times 10^{6})$$ \n",
        "$$  n \\le  \\lg(3600 \\times 10^{6})$$\n",
        "$$  n = 32 $$ \n",
        "\n",
        "$Day$\n",
        "$$  2^{n} \\times 10^{-6}\\ s\\le 86400\\ s$$ \n",
        "$$  2^{n} \\le 86400 \\times 10^{6}$$ \n",
        "$$  \\lg(2^{n}) \\le  \\lg(86400 \\times 10^{6})$$ \n",
        "$$  n\\lg(2) \\le \\lg(86400 \\times 10^{6})$$ \n",
        "$$  n \\le  \\lg(86400 \\times 10^{6})$$\n",
        "$$  n = 36 $$ \n",
        "\n",
        "$Year$\n",
        "$$  2^{n} \\times 10^{-6}\\ s\\le 31536000\\ s$$ \n",
        "$$  2^{n} \\le 31536000 \\times 10^{6}$$ \n",
        "$$  \\lg(2^{n}) \\le  \\lg(31536000 \\times 10^{6})$$ \n",
        "$$  n\\lg(2) \\le \\lg(31536000 \\times 10^{6})$$ \n",
        "$$  n \\le \\lg(31536000 \\times 10^{6}) $$ \n",
        "$$  n = 45 $$ \n",
        "\n",
        "$Century$\n",
        "$$  2^{n} \\times 10^{-6}\\ s\\le 3.154 * 10^{9}\\ s$$ \n",
        "$$  2^{n} \\le 3.154 * 10^{9} \\times 10^{6}$$ \n",
        "$$  \\lg(2^{n}) \\le  \\lg(3.154 * 10^{9} \\times 10^{6})$$ \n",
        "$$  n\\lg(2) \\le \\lg(3.154 * 10^{9} \\times 10^{6})$$ \n",
        "$$  n \\le  \\lg(3.154 * 10^{9} \\times 10^{6})$$\n",
        "$$  n \\le \\lg(3.154 \\times 10^{15})$$\n",
        "$$  n = 52 $$ \n",
        "\n",
        "$Millenum$\n",
        "$$  2^{n} \\times 10^{-6}\\ s\\le 3.154 * 10^{10}\\ s$$ \n",
        "$$  2^{n} \\le 3.154 * 10^{10} \\times 10^{6}$$ \n",
        "$$  \\lg(2^{n}) \\le  \\lg(3.154 * 10^{10} \\times 10^{6})$$ \n",
        "$$  n\\lg(2) \\le \\lg(3.154 * 10^{10} \\times 10^{6})$$ \n",
        "$$  n \\le  \\lg(3.154 * 10^{10} \\times 10^{6})$$\n",
        "$$  n \\le \\lg(3.154 \\times 10^{16}) $$\n",
        "$$  n = 55 $$\n",
        "\n",
        "\n"
      ],
      "metadata": {
        "id": "G7rtQBkNuR9R"
      }
    },
    {
      "cell_type": "markdown",
      "source": [
        "# $\\bf{ Time\\ Complexity\\ n! }$"
      ],
      "metadata": {
        "id": "C23o78xmuVDy"
      }
    },
    {
      "cell_type": "markdown",
      "source": [
        "$\\bf{ Time\\ Complexity\\ n! }$\n",
        "\n",
        "$Second$\n",
        "$$ n! \\le 10^{6} $$ \n",
        "$$ n = 9 $$\n",
        "\n",
        "$Minute $\n",
        "$$ n! \\le 60 \\times 10^{6} $$ \n",
        "$$ n = 11 $$\n",
        "\n",
        "$Hour$\n",
        "$$ n! \\le 3600 \\times 10^{6} $$ \n",
        "$$ n = 12 $$\n",
        "\n",
        "$Day$\n",
        "$$ n! \\le 86400 \\times 10^{6} $$ \n",
        "$$ n = 13 $$\n",
        "\n",
        "$Year$\n",
        "$$ n! \\le 31536000 \\times 10^{6} $$ \n",
        "$$ n = 16 $$\n",
        "\n",
        "$Century$\n",
        "$$ n! \\le  3.154 \\times 10^{9} $$ \n",
        "$$ n = 17 $$\n",
        "\n",
        "$Millenum$\n",
        "$$ n! \\le 3.154 \\times 10^{10} $$ \n",
        "$$ n = 18$$"
      ],
      "metadata": {
        "id": "Vri3sDWIGII7"
      }
    },
    {
      "cell_type": "markdown",
      "source": [
        "# $\\bf{ Time\\ Complexity\\ n^n }$\n"
      ],
      "metadata": {
        "id": "DR0pYz4BGFNQ"
      }
    },
    {
      "cell_type": "markdown",
      "source": [
        "$\\bf{ Time\\ Complexity\\ n^n }$\n",
        "\n",
        "$Second$\n",
        "$$ n^n \\le 10^{6} $$ \n",
        "$$n = 7 $$\n",
        "\n",
        "$Minute $\n",
        "$$ n^n \\le 60 \\times 10^{6} $$ \n",
        "$$n = 8 $$\n",
        "\n",
        "\n",
        "$Hour$\n",
        "$$ n^n \\le 3600 \\times 10^{6} $$ \n",
        "$$n = 9 $$\n",
        "\n",
        "$Day$\n",
        "$$ n^n \\le 86400 \\times 10^{6} $$ \n",
        "$$n = 10 $$\n",
        "\n",
        "$Year$\n",
        "$$ n^n \\le 31536000 \\times 10^{6} $$ \n",
        "$$n = 12 $$\n",
        "\n",
        "$Century$\n",
        "$$ n^n \\le  3.154 \\times 10^{9} $$ \n",
        "$$n = 13 $$\n",
        "\n",
        "$Millenum$\n",
        "$$ n^n \\le 3.154 \\times 10^{10} $$ \n",
        "$$n = 14 $$\n",
        "\n",
        "\n",
        "\n",
        "\n",
        "\n",
        "\n"
      ],
      "metadata": {
        "id": "hSchO1HfuXzt"
      }
    }
  ]
}