{
  "nbformat": 4,
  "nbformat_minor": 0,
  "metadata": {
    "colab": {
      "name": "AlgorithmicToolboxWeek3Group24.ipynb",
      "provenance": [],
      "authorship_tag": "ABX9TyMSZrhANgXvm68ZvEIEYrWw",
      "include_colab_link": true
    },
    "kernelspec": {
      "name": "python3",
      "display_name": "Python 3"
    },
    "language_info": {
      "name": "python"
    }
  },
  "cells": [
    {
      "cell_type": "markdown",
      "metadata": {
        "id": "view-in-github",
        "colab_type": "text"
      },
      "source": [
        "<a href=\"https://colab.research.google.com/github/emmendezp/AlgorithmsUN2021II/blob/main/Lab%2013/AlgorithmicToolboxWeek3Group24.ipynb\" target=\"_parent\"><img src=\"https://colab.research.google.com/assets/colab-badge.svg\" alt=\"Open In Colab\"/></a>"
      ]
    },
    {
      "cell_type": "markdown",
      "source": [
        "#MONEY CHANGE"
      ],
      "metadata": {
        "id": "NXt5iocbRrOK"
      }
    },
    {
      "cell_type": "code",
      "execution_count": 13,
      "metadata": {
        "colab": {
          "base_uri": "https://localhost:8080/"
        },
        "id": "aZrshwOfQac2",
        "outputId": "607cffa3-109f-4663-def7-c58cfa0696c5"
      },
      "outputs": [
        {
          "output_type": "stream",
          "name": "stdout",
          "text": [
            "Overwriting change.cpp\n"
          ]
        }
      ],
      "source": [
        "%%writefile change.cpp\n",
        "\n",
        "#include <bits/stdc++.h>\n",
        "using namespace std;\n",
        "\n",
        "void get_change()\n",
        "{\n",
        "  int m;\n",
        "  scanf(\"%d\", &m);\n",
        "  int count = m / 10;\n",
        "  m %= 10;\n",
        "  count += m / 5 + m % 5;\n",
        "  printf(\"%d\", count);\n",
        "}\n",
        "\n",
        "int main()\n",
        "{\n",
        "  get_change();\n",
        "  return 0;\n",
        "}\n",
        "\n"
      ]
    },
    {
      "cell_type": "code",
      "source": [
        "!g++ change.cpp -o change\n",
        "!./change"
      ],
      "metadata": {
        "id": "bk6ltDr8Qstq",
        "colab": {
          "base_uri": "https://localhost:8080/"
        },
        "outputId": "4b8b40cc-1077-4ec1-8a66-d042730ada26"
      },
      "execution_count": 14,
      "outputs": [
        {
          "output_type": "stream",
          "name": "stdout",
          "text": [
            "2\n",
            "2"
          ]
        }
      ]
    },
    {
      "cell_type": "markdown",
      "source": [
        "#MAXIMUM VALUE OF THE LOOT"
      ],
      "metadata": {
        "id": "YgP7JRxGRuRo"
      }
    },
    {
      "cell_type": "code",
      "source": [
        "%%writefile MVFL.cpp\n",
        "#include <bits/stdc++.h>\n",
        "using namespace std;\n",
        "\n",
        "void get_optimal_value()\n",
        "{\n",
        "  int n, W, val, weight;\n",
        "  scanf(\"%d %d\", &n, &W);\n",
        "  double ans = 0;\n",
        "  vector<pair<double, pair<int, int>>> a;\n",
        "  for (int i = 0; i < n; ++i)\n",
        "  {\n",
        "    scanf(\"%d %d\", &val, &weight);\n",
        "    a.push_back(make_pair((double)val / weight, make_pair(val, weight)));\n",
        "  }\n",
        "  sort(a.rbegin(), a.rend());\n",
        "  for (int i = 0; i < n; ++i)\n",
        "  {\n",
        "    W -= a[i].second.second;\n",
        "    ans += a[i].second.first;\n",
        "    if (W <= 0)\n",
        "    {\n",
        "      if (W < 0)\n",
        "        ans -= abs(W) * a[i].first;\n",
        "      break;\n",
        "    }\n",
        "  }\n",
        "  printf(\"%.4f\", ans);\n",
        "}\n",
        "\n",
        "int main()\n",
        "{\n",
        "  get_optimal_value();\n",
        "  return 0;\n",
        "}"
      ],
      "metadata": {
        "colab": {
          "base_uri": "https://localhost:8080/"
        },
        "id": "PhkMA9kUR1Dd",
        "outputId": "93d01923-4e87-476a-ed62-f964f925ad70"
      },
      "execution_count": 15,
      "outputs": [
        {
          "output_type": "stream",
          "name": "stdout",
          "text": [
            "Writing MVFL.cpp\n"
          ]
        }
      ]
    },
    {
      "cell_type": "code",
      "source": [
        "!g++ MVFL.cpp -o MVFL\n",
        "!./MVFL"
      ],
      "metadata": {
        "colab": {
          "base_uri": "https://localhost:8080/"
        },
        "id": "axQVktxmR-SK",
        "outputId": "46c9a295-a354-4f3d-c8b5-31af2b364fb4"
      },
      "execution_count": 21,
      "outputs": [
        {
          "output_type": "stream",
          "name": "stdout",
          "text": [
            "1 10\n",
            "500 30\n",
            "166.6667"
          ]
        }
      ]
    },
    {
      "cell_type": "markdown",
      "source": [
        "#car fueling "
      ],
      "metadata": {
        "id": "cMqx02UeTWHR"
      }
    },
    {
      "cell_type": "code",
      "source": [
        "%%writefile car.cpp\n",
        "#include <bits/stdc++.h>\n",
        "using namespace std;\n",
        "\n",
        "template <typename ForwardIterator, typename T>\n",
        "ForwardIterator first_less_than_or_equal(ForwardIterator first, ForwardIterator last, T val)\n",
        "{\n",
        "    auto it = upper_bound(first, last, val);\n",
        "    return (it == first) ? last : (it - 1);\n",
        "}\n",
        "\n",
        "void compute_min_refills()\n",
        "{\n",
        "    int d, m, n, x, ans = 0, pos = 0;\n",
        "    scanf(\"%d %d %d\", &d, &m, &n);\n",
        "    vector<int> a;\n",
        "    if (m >= d)\n",
        "    {\n",
        "        printf(\"%d\", 0);\n",
        "        return;\n",
        "    }\n",
        "    for (int i = 0; i < n; ++i)\n",
        "    {\n",
        "        scanf(\"%d\", &x);\n",
        "        a.push_back(x);\n",
        "    }\n",
        "    a.push_back(d);\n",
        "    int from = 0;\n",
        "    int i = 0;\n",
        "    while (i <= n)\n",
        "    {\n",
        "        auto it = first_less_than_or_equal(a.begin() + i, a.end(), (m + pos));\n",
        "        if (it == a.end())\n",
        "        {\n",
        "            printf(\"%d\", -1);\n",
        "            return;\n",
        "        }\n",
        "        i = distance(a.begin(), it) + 1;\n",
        "        pos = *it;\n",
        "        ans++;\n",
        "    }\n",
        "    printf(\"%d\", ans - 1);\n",
        "}\n",
        "\n",
        "int main()\n",
        "{\n",
        "    compute_min_refills();\n",
        "    return 0;\n",
        "}\n"
      ],
      "metadata": {
        "colab": {
          "base_uri": "https://localhost:8080/"
        },
        "id": "hbncYHqBTZi3",
        "outputId": "dc09eddb-afc4-4c03-b8a7-276b1c150189"
      },
      "execution_count": 22,
      "outputs": [
        {
          "output_type": "stream",
          "name": "stdout",
          "text": [
            "Writing car.cpp\n"
          ]
        }
      ]
    },
    {
      "cell_type": "code",
      "source": [
        "!g++ car.cpp -o car\n",
        "!./car"
      ],
      "metadata": {
        "colab": {
          "base_uri": "https://localhost:8080/"
        },
        "id": "fgpJ8624TjWh",
        "outputId": "6275978a-5a79-41b0-ca7e-55b865630fc0"
      },
      "execution_count": 23,
      "outputs": [
        {
          "output_type": "stream",
          "name": "stdout",
          "text": [
            "600\n",
            "400\n",
            "4\n",
            "200 375 550 750\n",
            "1"
          ]
        }
      ]
    },
    {
      "cell_type": "markdown",
      "source": [
        "# maximum_advertisement_revenue"
      ],
      "metadata": {
        "id": "oBhYRCpvT6M9"
      }
    },
    {
      "cell_type": "code",
      "source": [
        "%%writefile MAX.cpp\n",
        "#include <bits/stdc++.h>\n",
        "using namespace std;\n",
        "typedef vector<int> VI;\n",
        "typedef long long ll;\n",
        "\n",
        "void max_dot_product()\n",
        "{\n",
        "  int n, x;\n",
        "  scanf(\"%d\", &n);\n",
        "  VI a, c;\n",
        "  for (int i = 0; i < n; i++)\n",
        "  {\n",
        "    scanf(\"%d\", &x);\n",
        "    a.push_back(x);\n",
        "  }\n",
        "  for (int i = 0; i < n; i++)\n",
        "  {\n",
        "    scanf(\"%d\", &x);\n",
        "    c.push_back(x);\n",
        "  }\n",
        "  sort(a.begin(), a.end());\n",
        "  sort(c.begin(), c.end());\n",
        "  ll sum = 0;\n",
        "  for (int i = 0; i < n; i++)\n",
        "    sum += (ll)a[i] * c[i];\n",
        "  printf(\"%lld\", sum);\n",
        "}\n",
        "\n",
        "int main()\n",
        "{\n",
        "  max_dot_product();\n",
        "  return 0;\n",
        "}\n"
      ],
      "metadata": {
        "colab": {
          "base_uri": "https://localhost:8080/"
        },
        "id": "ZFp2ohUCT8MN",
        "outputId": "693002d3-68fe-4b1f-f630-4640eec64224"
      },
      "execution_count": 25,
      "outputs": [
        {
          "output_type": "stream",
          "name": "stdout",
          "text": [
            "Writing MAX.cpp\n"
          ]
        }
      ]
    },
    {
      "cell_type": "code",
      "source": [
        "!g++ MAX.cpp -o MAX\n",
        "!./MAX"
      ],
      "metadata": {
        "colab": {
          "base_uri": "https://localhost:8080/"
        },
        "id": "pAgT6WaGUFWn",
        "outputId": "ae6454fe-c227-48c9-dbdf-ae6af9b1b6ca"
      },
      "execution_count": 27,
      "outputs": [
        {
          "output_type": "stream",
          "name": "stdout",
          "text": [
            "3 1 3 -5 -2 4 1\n",
            "23"
          ]
        }
      ]
    },
    {
      "cell_type": "markdown",
      "source": [
        "#collecting_signatures"
      ],
      "metadata": {
        "id": "v1zjH9S5UmRu"
      }
    },
    {
      "cell_type": "code",
      "source": [
        "%%writefile col.cpp\n",
        "#include <bits/stdc++.h>\n",
        "using namespace std;\n",
        "typedef vector<int> VI;\n",
        "\n",
        "void optimal_points()\n",
        "{\n",
        "  struct Segment\n",
        "  {\n",
        "    int start, end;\n",
        "  };\n",
        "  int n;\n",
        "  scanf(\"%d\", &n);\n",
        "  vector<Segment> v;\n",
        "  {\n",
        "    int a, b;\n",
        "    for (int i = 0; i < n; ++i)\n",
        "    {\n",
        "      scanf(\"%d %d\", &a, &b);\n",
        "      v.push_back({a, b});\n",
        "    }\n",
        "  }\n",
        "  sort(v.begin(), v.end(), [](Segment &a, Segment &b) { return a.end < b.end; });\n",
        "  VI ans;\n",
        "  while (v.size())\n",
        "  {\n",
        "    int p = v[0].end;\n",
        "    ans.push_back(p);\n",
        "    v.erase(v.begin());\n",
        "    int i = 0;\n",
        "    while (i < v.size())\n",
        "      if (v[i].start <= p && p <= v[i].end)\n",
        "        v.erase(v.begin() + i);\n",
        "      else\n",
        "        i++;\n",
        "  }\n",
        "  printf(\"%ld\\n\", ans.size());\n",
        "  for (auto &e : ans)\n",
        "    printf(\"%d \", e);\n",
        "}\n",
        "\n",
        "int main()\n",
        "{\n",
        "  optimal_points();\n",
        "  return 0;\n",
        "}\n"
      ],
      "metadata": {
        "colab": {
          "base_uri": "https://localhost:8080/"
        },
        "id": "dRjtXBCLUoka",
        "outputId": "28ce56b8-9f1e-4394-c95e-3d6a85d8007b"
      },
      "execution_count": 28,
      "outputs": [
        {
          "output_type": "stream",
          "name": "stdout",
          "text": [
            "Writing col.cpp\n"
          ]
        }
      ]
    },
    {
      "cell_type": "code",
      "source": [
        "!g++ col.cpp -o col\n",
        "!./col"
      ],
      "metadata": {
        "colab": {
          "base_uri": "https://localhost:8080/"
        },
        "id": "VNdIozw5UzQd",
        "outputId": "4e7b590f-44af-4f68-fb8e-40477306d14c"
      },
      "execution_count": 32,
      "outputs": [
        {
          "output_type": "stream",
          "name": "stdout",
          "text": [
            "4 4 7 1 3 2 5 5 6\n",
            "2\n",
            "3 6 "
          ]
        }
      ]
    },
    {
      "cell_type": "markdown",
      "source": [
        "#maximum_number_of_prizes"
      ],
      "metadata": {
        "id": "bs9wFI_LU_9r"
      }
    },
    {
      "cell_type": "code",
      "source": [
        "%%writefile num.cpp\n",
        "#include <bits/stdc++.h>\n",
        "using namespace std;\n",
        "typedef vector<int> VI;\n",
        "\n",
        "void optimal_summands()\n",
        "{\n",
        "  int n;\n",
        "  scanf(\"%d\", &n);\n",
        "  int i = 1;\n",
        "  int sum = 0;\n",
        "  VI ans;\n",
        "  while (i + sum != n)\n",
        "  {\n",
        "    int check = sum + i + i + 1;\n",
        "    if (check <= n)\n",
        "    {\n",
        "      sum += i;\n",
        "      ans.push_back(i);\n",
        "    }\n",
        "    i++;\n",
        "  }\n",
        "  ans.push_back(i);\n",
        "  printf(\"%ld\\n\", ans.size());\n",
        "  for (auto &e : ans)\n",
        "    printf(\"%d \", e);\n",
        "}\n",
        "\n",
        "int main()\n",
        "{\n",
        "  optimal_summands();\n",
        "  return 0;\n",
        "}\n"
      ],
      "metadata": {
        "colab": {
          "base_uri": "https://localhost:8080/"
        },
        "id": "y2AoiNBFVDrz",
        "outputId": "cc6f8f35-2ecd-4d7e-9d83-1e7dd9eec558"
      },
      "execution_count": 34,
      "outputs": [
        {
          "output_type": "stream",
          "name": "stdout",
          "text": [
            "Writing num.cpp\n"
          ]
        }
      ]
    },
    {
      "cell_type": "code",
      "source": [
        "!g++ num.cpp -o num\n",
        "!./num"
      ],
      "metadata": {
        "colab": {
          "base_uri": "https://localhost:8080/"
        },
        "id": "Vt9VZZPtVLPJ",
        "outputId": "27adfec8-191a-4876-88fd-691c5666ce26"
      },
      "execution_count": 35,
      "outputs": [
        {
          "output_type": "stream",
          "name": "stdout",
          "text": [
            "8\n",
            "3\n",
            "1 2 5 "
          ]
        }
      ]
    },
    {
      "cell_type": "markdown",
      "source": [
        "#maximum_salary"
      ],
      "metadata": {
        "id": "iymQeOMTVS1W"
      }
    },
    {
      "cell_type": "code",
      "source": [
        "%%writefile sal.cpp\n",
        "#include <bits/stdc++.h>\n",
        "using namespace std;\n",
        "\n",
        "struct my_struct\n",
        "{\n",
        "  string s, cpy;\n",
        "};\n",
        "\n",
        "bool my_sort(my_struct &a, my_struct &b)\n",
        "{\n",
        "  if (a.cpy > b.cpy)\n",
        "    return true;\n",
        "  if (a.cpy == b.cpy)\n",
        "    return a.s + b.s > b.s + a.s;\n",
        "  return false;\n",
        "}\n",
        "\n",
        "void largest_number()\n",
        "{\n",
        "  int n;\n",
        "  cin >> n;\n",
        "  vector<my_struct> a(n);\n",
        "  for (size_t i = 0; i < a.size(); ++i)\n",
        "  {\n",
        "    cin >> a[i].s;\n",
        "    int l = a[i].s.length();\n",
        "    a[i].cpy = a[i].s + string(4 - l, a[i].s[0]);\n",
        "  }\n",
        "  sort(a.begin(), a.end(), my_sort);\n",
        "  std::stringstream ret;\n",
        "  for (size_t i = 0; i < a.size(); ++i)\n",
        "    ret << a[i].s;\n",
        "  string result;\n",
        "  ret >> result;\n",
        "  cout << result;\n",
        "}\n",
        "\n",
        "int main()\n",
        "{\n",
        "  ios::sync_with_stdio(0);\n",
        "  cin.tie(0);\n",
        "  largest_number();\n",
        "  return 0;\n",
        "}"
      ],
      "metadata": {
        "colab": {
          "base_uri": "https://localhost:8080/"
        },
        "id": "_D3WHAzIVX3K",
        "outputId": "1bdcea4b-104e-44c6-d6cc-1bee88588612"
      },
      "execution_count": 36,
      "outputs": [
        {
          "output_type": "stream",
          "name": "stdout",
          "text": [
            "Writing sal.cpp\n"
          ]
        }
      ]
    },
    {
      "cell_type": "code",
      "source": [
        "!g++ sal.cpp -o sal\n",
        "!./sal"
      ],
      "metadata": {
        "colab": {
          "base_uri": "https://localhost:8080/"
        },
        "id": "JLaF61J2VeZA",
        "outputId": "8431a74d-372d-4f30-9111-5ebc99f851c9"
      },
      "execution_count": 37,
      "outputs": [
        {
          "output_type": "stream",
          "name": "stdout",
          "text": [
            "2\n",
            "100 20\n",
            "20100"
          ]
        }
      ]
    },
    {
      "cell_type": "markdown",
      "source": [
        "#ELKIN MAURICIO MENDEZ PINZON\n"
      ],
      "metadata": {
        "id": "m5aeYXznVtIJ"
      }
    },
    {
      "cell_type": "markdown",
      "source": [
        "![image.png](data:image/png;base64,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)"
      ],
      "metadata": {
        "id": "uXEvpJFHVwtv"
      }
    },
    {
      "cell_type": "code",
      "source": [
        ""
      ],
      "metadata": {
        "id": "hU3cFeAUV-Bo"
      },
      "execution_count": null,
      "outputs": []
    }
  ]
}