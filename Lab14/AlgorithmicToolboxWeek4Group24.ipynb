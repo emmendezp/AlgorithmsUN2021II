{
  "cells": [
    {
      "cell_type": "markdown",
      "metadata": {
        "id": "view-in-github",
        "colab_type": "text"
      },
      "source": [
        "<a href=\"https://colab.research.google.com/github/emmendezp/AlgorithmsUN2021II/blob/main/Lab14/AlgorithmicToolboxWeek4Group24.ipynb\" target=\"_parent\"><img src=\"https://colab.research.google.com/assets/colab-badge.svg\" alt=\"Open In Colab\"/></a>"
      ]
    },
    {
      "cell_type": "markdown",
      "metadata": {
        "id": "jNzOMGQwYEUc"
      },
      "source": [
        "# Algorithmic Toolbox Week 4"
      ]
    },
    {
      "cell_type": "markdown",
      "metadata": {
        "id": "rpjgHedzYEVf"
      },
      "source": [
        "## 4-1: Binary Search"
      ]
    },
    {
      "cell_type": "code",
      "execution_count": null,
      "metadata": {
        "id": "JipkiQO-YEVh"
      },
      "outputs": [],
      "source": [
        "import sys\n",
        "import math\n",
        "\n",
        "def binary_search(a, x):\n",
        "    left, right = 0,len(a)\n",
        "    while left <= right:\n",
        "        m = math.floor((left + right) / 2)\n",
        "        if m >= len(a) or m<0:\n",
        "            break;\n",
        "        if a[m] < x:\n",
        "            left = m + 1\n",
        "        elif a[m] > x:\n",
        "            right = m - 1\n",
        "        else:\n",
        "            return m\n",
        "    return -1\n",
        "\n",
        "def linear_search(a, x):\n",
        "    for i in range(len(a)):\n",
        "        if a[i] == x:\n",
        "            return i\n",
        "    return -1\n",
        "\n",
        "if __name__ == '__main__':\n",
        "    input = sys.stdin.read()\n",
        "    data = list(map(int, input.split()))\n",
        "    n = data[0]\n",
        "    m = data[n + 1]\n",
        "    a = data[1 : n + 1]\n",
        "    for x in data[n + 2:]:\n",
        "        # replace with the call to binary_search when implemented\n",
        "        print(binary_search(a, x), end = ' ')"
      ]
    },
    {
      "cell_type": "markdown",
      "metadata": {
        "id": "6a7wp-rFYEWH"
      },
      "source": [
        "## 4-2: Binary Search with Duplicates"
      ]
    },
    {
      "cell_type": "code",
      "execution_count": null,
      "metadata": {
        "id": "UUGFFvMBYEWK"
      },
      "outputs": [],
      "source": [
        "# Uses python3\n",
        "def binary_search(key, query, low, high):\n",
        "    if high < low:\n",
        "      return -1\n",
        "    mid = low + (high-low)//2\n",
        "    if key == query[mid]:\n",
        "      if mid-1 < 0:\n",
        "        return mid\n",
        "      if query[mid-1] != key:\n",
        "        return mid\n",
        "      return binary_search(key, query, low, mid-1)\n",
        "    elif key < query[mid]:\n",
        "      return binary_search(key, query, low, mid-1)\n",
        "    else:\n",
        "      return binary_search(key, query, mid+1, high)\n",
        "    return -1\n",
        "\n",
        "n = int(input())\n",
        "a = list(map(int, input().split()))\n",
        "k = int(input())\n",
        "b = list(map(int, input().split()))\n",
        "\n",
        "result = []\n",
        "\n",
        "for x in b:\n",
        "  result.append(binary_search(x, a, 0, len(a)-1))\n",
        "\n",
        "print(*result)"
      ]
    },
    {
      "cell_type": "markdown",
      "metadata": {
        "id": "iULTwkepYEWS"
      },
      "source": [
        "## 4-3: Majority Element"
      ]
    },
    {
      "cell_type": "code",
      "execution_count": null,
      "metadata": {
        "id": "x9cDyppSYEWU"
      },
      "outputs": [],
      "source": [
        "n = int(input())\n",
        "seq = [int(i) for i in input().split()]\n",
        "\n",
        "\n",
        "def divide_func(seq, l, r):\n",
        "    if l+1==r:\n",
        "        return seq[l]\n",
        "    elif l+2==r:\n",
        "        return seq[l]\n",
        "    m = (l+r)//2\n",
        "    left = divide_func(seq, l, m)\n",
        "    right = divide_func(seq, m, r)\n",
        "\n",
        "    c1, c2 = 0, 0\n",
        "    for i in seq[l:r]:\n",
        "        if i == left:\n",
        "            c1+=1\n",
        "        elif i == right:\n",
        "            c2+=1\n",
        "    if c1>(r-l)//2 and left != -1:\n",
        "        return left\n",
        "    elif c2>(r-l)//2 and right != -1:\n",
        "        return right\n",
        "    else: \n",
        "        return -1\n",
        "\n",
        "print(int(divide_func(seq, 0, n) != -1))"
      ]
    },
    {
      "cell_type": "markdown",
      "metadata": {
        "id": "zGRctk_wYEWX"
      },
      "source": [
        "## 4-4: Improving QuickSort"
      ]
    },
    {
      "cell_type": "code",
      "execution_count": null,
      "metadata": {
        "id": "h0C2vWfVYEWZ"
      },
      "outputs": [],
      "source": [
        "# Use python3\n",
        "import sys\n",
        "\n",
        "def merge(left,right):\n",
        "    count,i,j,res = 0,0,0,[]\n",
        "    while i < len(left) and j < len(right):\n",
        "        if left[i] > right[j]:\n",
        "            res.append(right[j])\n",
        "            j += 1\n",
        "            count += (len(left)-i)\n",
        "        else:\n",
        "            res.append(left[i])\n",
        "            i += 1\n",
        "    return res + left[i:] + right[j:],count\n",
        "\n",
        "def get_number_of_inversions(a, b, left, right):\n",
        "    length_array = len(a)\n",
        "    if length_array <=1:\n",
        "        return a,0\n",
        "    ave = length_array // 2\n",
        "    left_arr, number_of_inversions_left = get_number_of_inversions(a[:ave], b, left, ave)\n",
        "    right_arr, number_of_inversions_right = get_number_of_inversions(a[ave:], b, ave, right)\n",
        "    merged, count = merge(left_arr,right_arr)\n",
        "    count += (number_of_inversions_left + number_of_inversions_right)\n",
        "    return merged, count\n",
        "\n",
        "if __name__ == '__main__':\n",
        "    input = sys.stdin.read()\n",
        "    n, *a = list(map(int, input.split()))\n",
        "    b = n * [0]\n",
        "    print(get_number_of_inversions(a, b, 0, len(a))[1])"
      ]
    },
    {
      "cell_type": "markdown",
      "metadata": {
        "id": "z4f-uGiYYEWd"
      },
      "source": [
        "## 4-5: Inversions"
      ]
    },
    {
      "cell_type": "code",
      "execution_count": null,
      "metadata": {
        "id": "gCQyjLFvYEWf"
      },
      "outputs": [],
      "source": [
        "def merge(left, right):\n",
        "    i, j, inversion_counter = 0, 0, 0\n",
        "    final = list()\n",
        "    while i < len(left) and j< len(right):\n",
        "        if left[i] <= right[j]:\n",
        "            final.append(left[i])\n",
        "            i += 1\n",
        "        else:\n",
        "            final.append(right[j])\n",
        "            inversion_counter += len(left) - i\n",
        "            j += 1\n",
        "\n",
        "    final += left[i:]\n",
        "    final += right[j:]\n",
        "        \n",
        "    return final, inversion_counter\n",
        "\n",
        "def mergesort(arr):\n",
        "    global tot_count\n",
        "    if len(arr) <= 1:\n",
        "        return arr\n",
        "    mid = len(arr)//2\n",
        "\n",
        "    left = mergesort(arr[:mid])\n",
        "    right = mergesort(arr[mid:])\n",
        "\n",
        "    sorted_arr, temp = merge(left, right)\n",
        "    tot_count += temp\n",
        "\n",
        "    return sorted_arr\n",
        "\n",
        "tot_count = 0\n",
        "n = int(input())\n",
        "seq = [int(i) for i in input().split()]\n",
        "mergesort(seq)\n",
        "print(tot_count)\n",
        "\n",
        "\n"
      ]
    },
    {
      "cell_type": "markdown",
      "metadata": {
        "id": "a23VxfOmYEWh"
      },
      "source": [
        "## 4-6: Organizing a Lottery"
      ]
    },
    {
      "cell_type": "code",
      "execution_count": null,
      "metadata": {
        "id": "-BYuj7W2YEWi"
      },
      "outputs": [],
      "source": [
        "master_list = list()\n",
        "s, p = [int(i) for i in input().split()]\n",
        "\n",
        "for i in range(s):\n",
        "    a, b = [int(i) for i in input().split()]\n",
        "    master_list.append((a,'l'))\n",
        "    master_list.append((b,'r'))\n",
        "\n",
        "points = input().split()\n",
        "for i in points:\n",
        "    master_list.append((int(i),'p'))\n",
        "\n",
        "master_list.sort()\n",
        "\n",
        "segment_count = 0\n",
        "point_segment_map = dict()\n",
        "for i in master_list:\n",
        "    if i[1] == 'l': segment_count += 1\n",
        "    elif i[1] == 'r': segment_count -= 1\n",
        "    else:\n",
        "        point_segment_map[i[0]] = segment_count\n",
        "\n",
        "temp = ''\n",
        "for i in points:\n",
        "    temp += str(point_segment_map[int(i)]) + ' '\n",
        "print(temp[:-1])"
      ]
    },
    {
      "cell_type": "markdown",
      "metadata": {
        "id": "TDnXYZigYEWk"
      },
      "source": [
        "## 4-7:Closest Points"
      ]
    },
    {
      "cell_type": "code",
      "execution_count": null,
      "metadata": {
        "id": "6gQpltzvYEWl"
      },
      "outputs": [],
      "source": [
        "import math\n",
        "def dist(p1, p2):\n",
        "    return math.sqrt((p1[0] - p2[0]) ** 2 + (p1[1] - p2[1]) ** 2)\n",
        "\n",
        "def closest_split_pair(p_x, p_y, delta, best_pair):\n",
        "    ln_x = len(p_x)  # store length - quicker\n",
        "    mx_x = p_x[ln_x // 2][0]  # select midpoint on x-sorted array\n",
        "\n",
        "    # Create a subarray of points not further than delta from midpoint on x-sorted array\n",
        "    s_y = [x for x in p_y if mx_x - delta <= x[0] <= mx_x + delta]\n",
        "\n",
        "    best = delta  # assign delta value to best\n",
        "    ln_y = len(s_y)  # store length of subarray for quickness\n",
        "    for i in range(ln_y - 1):\n",
        "        for j in range(i+1, min(i + 5, ln_y)):    # We have to check only next 5 points; proof found in literature\n",
        "            p, q = s_y[i], s_y[j]\n",
        "            dst = dist(p, q)\n",
        "            if dst < best:\n",
        "                best_pair = p, q\n",
        "                best = dst\n",
        "    return best_pair[0], best_pair[1], best\n",
        "\n",
        "\n",
        "def brute(ax):\n",
        "    mi = dist(ax[0], ax[1])\n",
        "    p1 = ax[0]\n",
        "    p2 = ax[1]\n",
        "    ln_ax = len(ax)\n",
        "    if ln_ax == 2:\n",
        "        return p1, p2, mi\n",
        "    for i in range(ln_ax-1):\n",
        "        for j in range(i + 1, ln_ax):\n",
        "            if i != 0 and j != 1:\n",
        "                d = dist(ax[i], ax[j])\n",
        "                if d < mi:  # Update min_dist and points\n",
        "                    mi = d\n",
        "                    p1, p2 = ax[i], ax[j]\n",
        "    return p1, p2, mi\n",
        "\n",
        "\n",
        "def closest_pair(ax, ay):\n",
        "    ln_ax = len(ax)  # It's quicker to assign variable\n",
        "    if ln_ax <= 3:\n",
        "        return brute(ax)  # A call to bruteforce comparison\n",
        "    mid = ln_ax // 2  # Division without remainder, need int\n",
        "    Qx = ax[:mid]  # Two-part split\n",
        "    Rx = ax[mid:]\n",
        "\n",
        "    midpoint = ax[mid][0]\n",
        "    Qy = list()\n",
        "    Ry = list()\n",
        "    for x in ay:  # split ay into 2 arrays using midpoint\n",
        "        if x[0] < midpoint:\n",
        "           Qy.append(x)\n",
        "        else:\n",
        "           Ry.append(x)\n",
        "    # Call recursively both arrays after split\n",
        "    (p1, q1, mi1) = closest_pair(Qx, Qy)\n",
        "    (p2, q2, mi2) = closest_pair(Rx, Ry)\n",
        "\n",
        "    # Determine smaller distance between points of 2 arrays\n",
        "    if mi1 <= mi2:\n",
        "        d = mi1\n",
        "        mn = (p1, q1)\n",
        "    else:\n",
        "        d = mi2\n",
        "        mn = (p2, q2)\n",
        "\n",
        "    # Call function to account for points on the boundary\n",
        "    (p3, q3, mi3) = closest_split_pair(ax, ay, d, mn)\n",
        "    # Determine smallest distance for the array\n",
        "    if d <= mi3:\n",
        "        return mn[0], mn[1], d\n",
        "    else:\n",
        "        return p3, q3, mi3\n",
        "\n",
        "\n",
        "def solution(a):\n",
        "    ax = sorted(a, key=lambda x: x[0])  # Presorting x-wise O(nlogn)\n",
        "    ay = sorted(a, key=lambda x: (x[1], x[0]))  # Presorting y-wise then x-wise O(nlogn)\n",
        "    p1, p2, mi = closest_pair(ax, ay)  # Recursive D&C function\n",
        "    return mi\n",
        "\n",
        "\n",
        "# Input\n",
        "points = list()\n",
        "n = int(input())\n",
        "for i in range(n):\n",
        "    points.append([int(i) for i in input().split()])\n",
        "\n",
        "print(solution(points))"
      ]
    },
    {
      "cell_type": "markdown",
      "metadata": {
        "id": "fp_aochVYEWq"
      },
      "source": [
        "![image.png](attachment:image.png)"
      ]
    },
    {
      "cell_type": "markdown",
      "metadata": {
        "id": "frsMUOwnYEWs"
      },
      "source": [
        "![image.png](attachment:image.png)"
      ]
    },
    {
      "cell_type": "markdown",
      "metadata": {
        "id": "a1U8nI0KYEWt"
      },
      "source": [
        "![image.png](attachment:image.png)"
      ]
    },
    {
      "cell_type": "code",
      "execution_count": null,
      "metadata": {
        "id": "aL7Frt7gYEWt"
      },
      "outputs": [],
      "source": [
        ""
      ]
    }
  ],
  "metadata": {
    "kernelspec": {
      "display_name": "Python 3",
      "language": "python",
      "name": "python3"
    },
    "language_info": {
      "codemirror_mode": {
        "name": "ipython",
        "version": 3
      },
      "file_extension": ".py",
      "mimetype": "text/x-python",
      "name": "python",
      "nbconvert_exporter": "python",
      "pygments_lexer": "ipython3",
      "version": "3.8.3"
    },
    "colab": {
      "name": "AlgorithmicToolboxWeek4Group24.ipynb",
      "provenance": [],
      "include_colab_link": true
    }
  },
  "nbformat": 4,
  "nbformat_minor": 0
}